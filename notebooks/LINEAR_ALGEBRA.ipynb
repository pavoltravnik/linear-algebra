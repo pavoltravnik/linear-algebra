{
 "cells": [
  {
   "cell_type": "code",
   "execution_count": 298,
   "id": "337561c3-8a7b-415a-8cef-09bf2bbcae7b",
   "metadata": {
    "tags": []
   },
   "outputs": [],
   "source": [
    "import numpy as np\n",
    "import matplotlib.pyplot as plt\n",
    "import plotly.express as px\n",
    "import plotly.graph_objs as go\n",
    "import sympy as sp\n",
    "from IPython.display import HTML"
   ]
  },
  {
   "cell_type": "code",
   "execution_count": 299,
   "id": "2bbadf63-81c5-4c5e-911f-b7e829815048",
   "metadata": {
    "tags": []
   },
   "outputs": [],
   "source": [
    "# Helpers for visualisation of matrices\n",
    "def matrixToLatex(matrix):\n",
    "    return sp.latex(sp.Matrix(matrix))\n",
    "\n",
    "def displayMatrix(m):\n",
    "    display(HTML(dontScroll(r'${} $'.format(matrixToLatex(m)))))\n",
    "    print('\\n')\n",
    "\n",
    "def dontScroll(html):\n",
    "    return r'<div style=\"overflow-x:auto; overflow-y:hidden; display:inline-block;\">{}</div>'.format(html)\n",
    "\n",
    "def displayOperationMatrix(A, B, C, operator):\n",
    "    display(HTML(dontScroll(r'${A} {operator} {B} = {C} $'.format(A = matrixToLatex(A), B = matrixToLatex(B), C = matrixToLatex(C), operator=operator))))\n",
    "    print('\\n')\n"
   ]
  },
  {
   "cell_type": "markdown",
   "id": "b0eb9ba7-dcd7-4c5b-b9ce-43cfa3b38226",
   "metadata": {
    "tags": []
   },
   "source": [
    "# Matrixes"
   ]
  },
  {
   "cell_type": "markdown",
   "id": "18a1cf60-abfe-4cbb-9943-13b6b2a5de2d",
   "metadata": {},
   "source": [
    "## Matrix"
   ]
  },
  {
   "cell_type": "code",
   "execution_count": 300,
   "id": "5c6d9de5-b92e-4149-8438-541e080136be",
   "metadata": {
    "tags": []
   },
   "outputs": [
    {
     "data": {
      "text/html": [
       "<div style=\"overflow-x:auto; overflow-y:hidden; display:inline-block;\">$\\left[\\begin{matrix}1 & 2\\\\3 & 4\\end{matrix}\\right] $</div>"
      ],
      "text/plain": [
       "<IPython.core.display.HTML object>"
      ]
     },
     "metadata": {},
     "output_type": "display_data"
    },
    {
     "name": "stdout",
     "output_type": "stream",
     "text": [
      "\n",
      "\n"
     ]
    }
   ],
   "source": [
    "matrix_2x2 = np.array([\n",
    "    [1, 2],\n",
    "    [3, 4],\n",
    "])\n",
    "displayMatrix(matrix_2x2)"
   ]
  },
  {
   "cell_type": "code",
   "execution_count": 301,
   "id": "588b9ec7-063f-4d17-afb5-f0a8023d3f1e",
   "metadata": {
    "tags": []
   },
   "outputs": [
    {
     "data": {
      "text/html": [
       "<div style=\"overflow-x:auto; overflow-y:hidden; display:inline-block;\">$\\left[\\begin{matrix}1 & 2 & 3\\\\4 & 5 & 6\\end{matrix}\\right] $</div>"
      ],
      "text/plain": [
       "<IPython.core.display.HTML object>"
      ]
     },
     "metadata": {},
     "output_type": "display_data"
    },
    {
     "name": "stdout",
     "output_type": "stream",
     "text": [
      "\n",
      "\n"
     ]
    }
   ],
   "source": [
    "matrix_2x3 = np.array([\n",
    "    [1, 2, 3],\n",
    "    [4, 5, 6],\n",
    "])\n",
    "displayMatrix(matrix_2x3)"
   ]
  },
  {
   "cell_type": "code",
   "execution_count": 302,
   "id": "b59a8151-277a-49d7-a9bb-cd750f9708cd",
   "metadata": {
    "tags": []
   },
   "outputs": [
    {
     "data": {
      "text/html": [
       "<div style=\"overflow-x:auto; overflow-y:hidden; display:inline-block;\">$\\left[\\begin{matrix}1 & 2\\\\3 & 4\\\\5 & 6\\end{matrix}\\right] $</div>"
      ],
      "text/plain": [
       "<IPython.core.display.HTML object>"
      ]
     },
     "metadata": {},
     "output_type": "display_data"
    },
    {
     "name": "stdout",
     "output_type": "stream",
     "text": [
      "\n",
      "\n"
     ]
    }
   ],
   "source": [
    "matrix_3x2 = np.array([\n",
    "    [1, 2],\n",
    "    [3, 4],\n",
    "    [5, 6]\n",
    "])\n",
    "displayMatrix(matrix_3x2)"
   ]
  },
  {
   "cell_type": "code",
   "execution_count": 303,
   "id": "aaa8bfa9-174b-4f52-a232-76dba47bccb9",
   "metadata": {
    "tags": []
   },
   "outputs": [
    {
     "data": {
      "text/html": [
       "<div style=\"overflow-x:auto; overflow-y:hidden; display:inline-block;\">$\\left[\\begin{matrix}1 & 2 & 3\\\\1 & 2 & 6\\\\1 & 2 & 9\\end{matrix}\\right] $</div>"
      ],
      "text/plain": [
       "<IPython.core.display.HTML object>"
      ]
     },
     "metadata": {},
     "output_type": "display_data"
    },
    {
     "name": "stdout",
     "output_type": "stream",
     "text": [
      "\n",
      "\n"
     ]
    }
   ],
   "source": [
    "matrix_3x3 = np.array([\n",
    "    [1, 2, 3],\n",
    "    [1, 2, 6],\n",
    "    [1, 2, 9]\n",
    "])\n",
    "displayMatrix(matrix_3x3)"
   ]
  },
  {
   "cell_type": "markdown",
   "id": "991e7b8a-d016-426a-9da5-75346108d587",
   "metadata": {},
   "source": [
    "### Zeros matrix"
   ]
  },
  {
   "cell_type": "code",
   "execution_count": 304,
   "id": "6f86bf71-1693-48ba-9b79-d67d05409e13",
   "metadata": {
    "tags": []
   },
   "outputs": [
    {
     "data": {
      "text/html": [
       "<div style=\"overflow-x:auto; overflow-y:hidden; display:inline-block;\">$\\left[\\begin{matrix}0 & 0 & 0\\\\0 & 0 & 0\\\\0 & 0 & 0\\end{matrix}\\right] $</div>"
      ],
      "text/plain": [
       "<IPython.core.display.HTML object>"
      ]
     },
     "metadata": {},
     "output_type": "display_data"
    },
    {
     "name": "stdout",
     "output_type": "stream",
     "text": [
      "\n",
      "\n"
     ]
    }
   ],
   "source": [
    "zeros_matrix = np.zeros((3, 3))\n",
    "displayMatrix(zeros_matrix)"
   ]
  },
  {
   "cell_type": "markdown",
   "id": "db481c36-5e0c-4084-ad68-cd9b3a2f5576",
   "metadata": {},
   "source": [
    "### Ones matrix"
   ]
  },
  {
   "cell_type": "code",
   "execution_count": 305,
   "id": "bf725dbc-a486-4656-9c60-fa293f0c06a4",
   "metadata": {
    "tags": []
   },
   "outputs": [
    {
     "data": {
      "text/html": [
       "<div style=\"overflow-x:auto; overflow-y:hidden; display:inline-block;\">$\\left[\\begin{matrix}1.0 & 1.0 & 1.0\\\\1.0 & 1.0 & 1.0\\\\1.0 & 1.0 & 1.0\\end{matrix}\\right] $</div>"
      ],
      "text/plain": [
       "<IPython.core.display.HTML object>"
      ]
     },
     "metadata": {},
     "output_type": "display_data"
    },
    {
     "name": "stdout",
     "output_type": "stream",
     "text": [
      "\n",
      "\n"
     ]
    }
   ],
   "source": [
    "ones_matrix = np.ones((3, 3))\n",
    "displayMatrix(ones_matrix)"
   ]
  },
  {
   "cell_type": "markdown",
   "id": "5025553c-643c-4168-a11d-de0066cfb85f",
   "metadata": {},
   "source": [
    "### Identity matrix"
   ]
  },
  {
   "cell_type": "code",
   "execution_count": 306,
   "id": "35eee1e0-7d30-4678-9c0c-96928a0c980b",
   "metadata": {
    "tags": []
   },
   "outputs": [
    {
     "data": {
      "text/html": [
       "<div style=\"overflow-x:auto; overflow-y:hidden; display:inline-block;\">$\\left[\\begin{matrix}1.0 & 0 & 0\\\\0 & 1.0 & 0\\\\0 & 0 & 1.0\\end{matrix}\\right] $</div>"
      ],
      "text/plain": [
       "<IPython.core.display.HTML object>"
      ]
     },
     "metadata": {},
     "output_type": "display_data"
    },
    {
     "name": "stdout",
     "output_type": "stream",
     "text": [
      "\n",
      "\n"
     ]
    }
   ],
   "source": [
    "identity_matrix = np.eye(3)\n",
    "displayMatrix(identity_matrix)"
   ]
  },
  {
   "cell_type": "markdown",
   "id": "0dfd4452-28e5-4572-8441-efaa63f7bf12",
   "metadata": {},
   "source": [
    "### Random matrix"
   ]
  },
  {
   "cell_type": "code",
   "execution_count": 307,
   "id": "78f1a85b-71d5-4276-876c-3c2071d37e16",
   "metadata": {
    "tags": []
   },
   "outputs": [
    {
     "data": {
      "text/html": [
       "<div style=\"overflow-x:auto; overflow-y:hidden; display:inline-block;\">$\\left[\\begin{matrix}0.128609244581697 & 0.778978259951807 & 0.289577243359489\\\\0.308043647263541 & 0.402012869714499 & 0.0754856118425141\\\\0.426306253636634 & 0.284816098041052 & 0.969813417614244\\end{matrix}\\right] $</div>"
      ],
      "text/plain": [
       "<IPython.core.display.HTML object>"
      ]
     },
     "metadata": {},
     "output_type": "display_data"
    },
    {
     "name": "stdout",
     "output_type": "stream",
     "text": [
      "\n",
      "\n"
     ]
    }
   ],
   "source": [
    "random_matrix = np.random.rand(3, 3)\n",
    "displayMatrix(random_matrix)"
   ]
  },
  {
   "cell_type": "markdown",
   "id": "596d9732-46f0-4831-9c59-5a43b3377cee",
   "metadata": {},
   "source": [
    "# Operations"
   ]
  },
  {
   "cell_type": "code",
   "execution_count": 308,
   "id": "2c743512-47ab-487d-a689-7637bf947b96",
   "metadata": {
    "tags": []
   },
   "outputs": [],
   "source": [
    "A = np.array([\n",
    "    [1, 2, 3],\n",
    "    [4, 5, 6],\n",
    "    [7, 8, 9],\n",
    "])\n",
    "\n",
    "B = np.array([\n",
    "    [1, 1, 1],\n",
    "    [2, 2, 2],\n",
    "    [3, 3, 3],\n",
    "])\n"
   ]
  },
  {
   "cell_type": "markdown",
   "id": "3302314c-3267-4e6e-b823-3609eba432fe",
   "metadata": {},
   "source": [
    "### Addition"
   ]
  },
  {
   "cell_type": "code",
   "execution_count": 309,
   "id": "36ec4fc2-a682-4e2f-8511-53f4326f77b1",
   "metadata": {
    "tags": []
   },
   "outputs": [
    {
     "data": {
      "text/html": [
       "<div style=\"overflow-x:auto; overflow-y:hidden; display:inline-block;\">$\\left[\\begin{matrix}1 & 2 & 3\\\\4 & 5 & 6\\\\7 & 8 & 9\\end{matrix}\\right] + \\left[\\begin{matrix}1 & 1 & 1\\\\2 & 2 & 2\\\\3 & 3 & 3\\end{matrix}\\right] = \\left[\\begin{matrix}2 & 3 & 4\\\\6 & 7 & 8\\\\10 & 11 & 12\\end{matrix}\\right] $</div>"
      ],
      "text/plain": [
       "<IPython.core.display.HTML object>"
      ]
     },
     "metadata": {},
     "output_type": "display_data"
    },
    {
     "name": "stdout",
     "output_type": "stream",
     "text": [
      "\n",
      "\n"
     ]
    },
    {
     "data": {
      "text/html": [
       "<div style=\"overflow-x:auto; overflow-y:hidden; display:inline-block;\">$\\left[\\begin{matrix}1 & 1 & 1\\\\2 & 2 & 2\\\\3 & 3 & 3\\end{matrix}\\right] + \\left[\\begin{matrix}1 & 2 & 3\\\\4 & 5 & 6\\\\7 & 8 & 9\\end{matrix}\\right] = \\left[\\begin{matrix}2 & 3 & 4\\\\6 & 7 & 8\\\\10 & 11 & 12\\end{matrix}\\right] $</div>"
      ],
      "text/plain": [
       "<IPython.core.display.HTML object>"
      ]
     },
     "metadata": {},
     "output_type": "display_data"
    },
    {
     "name": "stdout",
     "output_type": "stream",
     "text": [
      "\n",
      "\n"
     ]
    },
    {
     "data": {
      "text/html": [
       "<div style=\"overflow-x:auto; overflow-y:hidden; display:inline-block;\">$\\left[\\begin{matrix}1 & 2 & 3\\\\4 & 5 & 6\\\\7 & 8 & 9\\end{matrix}\\right] + \\left[\\begin{matrix}0 & 0 & 0\\\\0 & 0 & 0\\\\0 & 0 & 0\\end{matrix}\\right] = \\left[\\begin{matrix}1.0 & 2.0 & 3.0\\\\4.0 & 5.0 & 6.0\\\\7.0 & 8.0 & 9.0\\end{matrix}\\right] $</div>"
      ],
      "text/plain": [
       "<IPython.core.display.HTML object>"
      ]
     },
     "metadata": {},
     "output_type": "display_data"
    },
    {
     "name": "stdout",
     "output_type": "stream",
     "text": [
      "\n",
      "\n"
     ]
    },
    {
     "data": {
      "text/html": [
       "<div style=\"overflow-x:auto; overflow-y:hidden; display:inline-block;\">$\\left[\\begin{matrix}1 & 2 & 3\\\\4 & 5 & 6\\\\7 & 8 & 9\\end{matrix}\\right] + \\left[\\begin{matrix}1.0 & 1.0 & 1.0\\\\1.0 & 1.0 & 1.0\\\\1.0 & 1.0 & 1.0\\end{matrix}\\right] = \\left[\\begin{matrix}2.0 & 3.0 & 4.0\\\\5.0 & 6.0 & 7.0\\\\8.0 & 9.0 & 10.0\\end{matrix}\\right] $</div>"
      ],
      "text/plain": [
       "<IPython.core.display.HTML object>"
      ]
     },
     "metadata": {},
     "output_type": "display_data"
    },
    {
     "name": "stdout",
     "output_type": "stream",
     "text": [
      "\n",
      "\n"
     ]
    },
    {
     "data": {
      "text/html": [
       "<div style=\"overflow-x:auto; overflow-y:hidden; display:inline-block;\">$\\left[\\begin{matrix}1 & 2 & 3\\\\4 & 5 & 6\\\\7 & 8 & 9\\end{matrix}\\right] + \\left[\\begin{matrix}1.0 & 0 & 0\\\\0 & 1.0 & 0\\\\0 & 0 & 1.0\\end{matrix}\\right] = \\left[\\begin{matrix}2.0 & 2.0 & 3.0\\\\4.0 & 6.0 & 6.0\\\\7.0 & 8.0 & 10.0\\end{matrix}\\right] $</div>"
      ],
      "text/plain": [
       "<IPython.core.display.HTML object>"
      ]
     },
     "metadata": {},
     "output_type": "display_data"
    },
    {
     "name": "stdout",
     "output_type": "stream",
     "text": [
      "\n",
      "\n"
     ]
    },
    {
     "data": {
      "text/html": [
       "<div style=\"overflow-x:auto; overflow-y:hidden; display:inline-block;\">$\\left[\\begin{matrix}1 & 2 & 3\\\\4 & 5 & 6\\\\7 & 8 & 9\\end{matrix}\\right] + \\left[\\begin{matrix}0.128609244581697 & 0.778978259951807 & 0.289577243359489\\\\0.308043647263541 & 0.402012869714499 & 0.0754856118425141\\\\0.426306253636634 & 0.284816098041052 & 0.969813417614244\\end{matrix}\\right] = \\left[\\begin{matrix}1.1286092445817 & 2.77897825995181 & 3.28957724335949\\\\4.30804364726354 & 5.4020128697145 & 6.07548561184251\\\\7.42630625363663 & 8.28481609804105 & 9.96981341761424\\end{matrix}\\right] $</div>"
      ],
      "text/plain": [
       "<IPython.core.display.HTML object>"
      ]
     },
     "metadata": {},
     "output_type": "display_data"
    },
    {
     "name": "stdout",
     "output_type": "stream",
     "text": [
      "\n",
      "\n"
     ]
    }
   ],
   "source": [
    "C = A + B\n",
    "displayOperationMatrix(A, B, C, '+')\n",
    "C = B + A\n",
    "displayOperationMatrix(B, A, C, '+')\n",
    "C = A + zeros_matrix\n",
    "displayOperationMatrix(A, zeros_matrix, C, '+')\n",
    "C = A + ones_matrix\n",
    "displayOperationMatrix(A, ones_matrix, C, '+')\n",
    "C = A + identity_matrix\n",
    "displayOperationMatrix(A, identity_matrix, C, '+')\n",
    "C = A + random_matrix\n",
    "displayOperationMatrix(A, random_matrix, C, '+')"
   ]
  },
  {
   "cell_type": "markdown",
   "id": "3a46236c-7317-4454-9851-ff5b55d2c8ae",
   "metadata": {},
   "source": [
    "### Subtraction"
   ]
  },
  {
   "cell_type": "code",
   "execution_count": 310,
   "id": "0e2b6de9-f332-4676-a153-49f751470a52",
   "metadata": {},
   "outputs": [
    {
     "data": {
      "text/html": [
       "<div style=\"overflow-x:auto; overflow-y:hidden; display:inline-block;\">$\\left[\\begin{matrix}1 & 2 & 3\\\\4 & 5 & 6\\\\7 & 8 & 9\\end{matrix}\\right] - \\left[\\begin{matrix}1 & 1 & 1\\\\2 & 2 & 2\\\\3 & 3 & 3\\end{matrix}\\right] = \\left[\\begin{matrix}0 & 1 & 2\\\\2 & 3 & 4\\\\4 & 5 & 6\\end{matrix}\\right] $</div>"
      ],
      "text/plain": [
       "<IPython.core.display.HTML object>"
      ]
     },
     "metadata": {},
     "output_type": "display_data"
    },
    {
     "name": "stdout",
     "output_type": "stream",
     "text": [
      "\n",
      "\n"
     ]
    },
    {
     "data": {
      "text/html": [
       "<div style=\"overflow-x:auto; overflow-y:hidden; display:inline-block;\">$\\left[\\begin{matrix}1 & 1 & 1\\\\2 & 2 & 2\\\\3 & 3 & 3\\end{matrix}\\right] - \\left[\\begin{matrix}1 & 2 & 3\\\\4 & 5 & 6\\\\7 & 8 & 9\\end{matrix}\\right] = \\left[\\begin{matrix}0 & -1 & -2\\\\-2 & -3 & -4\\\\-4 & -5 & -6\\end{matrix}\\right] $</div>"
      ],
      "text/plain": [
       "<IPython.core.display.HTML object>"
      ]
     },
     "metadata": {},
     "output_type": "display_data"
    },
    {
     "name": "stdout",
     "output_type": "stream",
     "text": [
      "\n",
      "\n"
     ]
    },
    {
     "data": {
      "text/html": [
       "<div style=\"overflow-x:auto; overflow-y:hidden; display:inline-block;\">$\\left[\\begin{matrix}1 & 2 & 3\\\\4 & 5 & 6\\\\7 & 8 & 9\\end{matrix}\\right] - \\left[\\begin{matrix}0 & 0 & 0\\\\0 & 0 & 0\\\\0 & 0 & 0\\end{matrix}\\right] = \\left[\\begin{matrix}1.0 & 2.0 & 3.0\\\\4.0 & 5.0 & 6.0\\\\7.0 & 8.0 & 9.0\\end{matrix}\\right] $</div>"
      ],
      "text/plain": [
       "<IPython.core.display.HTML object>"
      ]
     },
     "metadata": {},
     "output_type": "display_data"
    },
    {
     "name": "stdout",
     "output_type": "stream",
     "text": [
      "\n",
      "\n"
     ]
    },
    {
     "data": {
      "text/html": [
       "<div style=\"overflow-x:auto; overflow-y:hidden; display:inline-block;\">$\\left[\\begin{matrix}1 & 2 & 3\\\\4 & 5 & 6\\\\7 & 8 & 9\\end{matrix}\\right] - \\left[\\begin{matrix}1.0 & 1.0 & 1.0\\\\1.0 & 1.0 & 1.0\\\\1.0 & 1.0 & 1.0\\end{matrix}\\right] = \\left[\\begin{matrix}0 & 1.0 & 2.0\\\\3.0 & 4.0 & 5.0\\\\6.0 & 7.0 & 8.0\\end{matrix}\\right] $</div>"
      ],
      "text/plain": [
       "<IPython.core.display.HTML object>"
      ]
     },
     "metadata": {},
     "output_type": "display_data"
    },
    {
     "name": "stdout",
     "output_type": "stream",
     "text": [
      "\n",
      "\n"
     ]
    },
    {
     "data": {
      "text/html": [
       "<div style=\"overflow-x:auto; overflow-y:hidden; display:inline-block;\">$\\left[\\begin{matrix}1 & 2 & 3\\\\4 & 5 & 6\\\\7 & 8 & 9\\end{matrix}\\right] - \\left[\\begin{matrix}1.0 & 0 & 0\\\\0 & 1.0 & 0\\\\0 & 0 & 1.0\\end{matrix}\\right] = \\left[\\begin{matrix}0 & 2.0 & 3.0\\\\4.0 & 4.0 & 6.0\\\\7.0 & 8.0 & 8.0\\end{matrix}\\right] $</div>"
      ],
      "text/plain": [
       "<IPython.core.display.HTML object>"
      ]
     },
     "metadata": {},
     "output_type": "display_data"
    },
    {
     "name": "stdout",
     "output_type": "stream",
     "text": [
      "\n",
      "\n"
     ]
    },
    {
     "data": {
      "text/html": [
       "<div style=\"overflow-x:auto; overflow-y:hidden; display:inline-block;\">$\\left[\\begin{matrix}1 & 2 & 3\\\\4 & 5 & 6\\\\7 & 8 & 9\\end{matrix}\\right] - \\left[\\begin{matrix}0.128609244581697 & 0.778978259951807 & 0.289577243359489\\\\0.308043647263541 & 0.402012869714499 & 0.0754856118425141\\\\0.426306253636634 & 0.284816098041052 & 0.969813417614244\\end{matrix}\\right] = \\left[\\begin{matrix}0.871390755418303 & 1.22102174004819 & 2.71042275664051\\\\3.69195635273646 & 4.5979871302855 & 5.92451438815749\\\\6.57369374636337 & 7.71518390195895 & 8.03018658238576\\end{matrix}\\right] $</div>"
      ],
      "text/plain": [
       "<IPython.core.display.HTML object>"
      ]
     },
     "metadata": {},
     "output_type": "display_data"
    },
    {
     "name": "stdout",
     "output_type": "stream",
     "text": [
      "\n",
      "\n"
     ]
    }
   ],
   "source": [
    "C = A - B\n",
    "displayOperationMatrix(A, B, C, '-')\n",
    "C = B - A\n",
    "displayOperationMatrix(B, A, C, '-')\n",
    "C = A - zeros_matrix\n",
    "displayOperationMatrix(A, zeros_matrix, C, '-')\n",
    "C = A - ones_matrix\n",
    "displayOperationMatrix(A, ones_matrix, C, '-')\n",
    "C = A - identity_matrix\n",
    "displayOperationMatrix(A, identity_matrix, C, '-')\n",
    "C = A - random_matrix\n",
    "displayOperationMatrix(A, random_matrix, C, '-')"
   ]
  },
  {
   "cell_type": "markdown",
   "id": "6199fb1a-d2bf-423f-8d28-e43bfaecb082",
   "metadata": {},
   "source": [
    "#### Note\n",
    "\n",
    "matrix_2x2 - matrix_3x3 is not possible"
   ]
  },
  {
   "cell_type": "markdown",
   "id": "923d7469-27c5-4aee-8b49-a0508fd15b1a",
   "metadata": {},
   "source": [
    "### Scalar Multiplication"
   ]
  },
  {
   "cell_type": "code",
   "execution_count": 311,
   "id": "a1fa2b30-255b-4315-944f-e4f1772dd625",
   "metadata": {},
   "outputs": [
    {
     "name": "stdout",
     "output_type": "stream",
     "text": [
      "Scalar multiplication:\n",
      " [[ 2  4  6]\n",
      " [ 8 10 12]\n",
      " [14 16 18]]\n"
     ]
    }
   ],
   "source": [
    "scalar = 2\n",
    "C = scalar * A\n",
    "print(\"Scalar multiplication:\\n\", C)"
   ]
  },
  {
   "cell_type": "markdown",
   "id": "82bf76ff-a6e0-49af-8887-a6d54433284b",
   "metadata": {},
   "source": [
    "### Matrix multiplication (dot product) \n",
    "\n",
    "only for 2 dimensional arrays"
   ]
  },
  {
   "cell_type": "code",
   "execution_count": 312,
   "id": "7cf90f4b-fed3-47f0-bb53-ad9ed1115add",
   "metadata": {},
   "outputs": [
    {
     "data": {
      "text/html": [
       "<div style=\"overflow-x:auto; overflow-y:hidden; display:inline-block;\">$\\left[\\begin{matrix}1 & 2 & 3\\\\4 & 5 & 6\\\\7 & 8 & 9\\end{matrix}\\right] . \\left[\\begin{matrix}1 & 1 & 1\\\\2 & 2 & 2\\\\3 & 3 & 3\\end{matrix}\\right] = \\left[\\begin{matrix}14 & 14 & 14\\\\32 & 32 & 32\\\\50 & 50 & 50\\end{matrix}\\right] $</div>"
      ],
      "text/plain": [
       "<IPython.core.display.HTML object>"
      ]
     },
     "metadata": {},
     "output_type": "display_data"
    },
    {
     "name": "stdout",
     "output_type": "stream",
     "text": [
      "\n",
      "\n"
     ]
    },
    {
     "data": {
      "text/html": [
       "<div style=\"overflow-x:auto; overflow-y:hidden; display:inline-block;\">$\\left[\\begin{matrix}1 & 2 & 3\\\\4 & 5 & 6\\\\7 & 8 & 9\\end{matrix}\\right] . \\left[\\begin{matrix}1 & 1 & 1\\\\2 & 2 & 2\\\\3 & 3 & 3\\end{matrix}\\right] = \\left[\\begin{matrix}14 & 14 & 14\\\\32 & 32 & 32\\\\50 & 50 & 50\\end{matrix}\\right] $</div>"
      ],
      "text/plain": [
       "<IPython.core.display.HTML object>"
      ]
     },
     "metadata": {},
     "output_type": "display_data"
    },
    {
     "name": "stdout",
     "output_type": "stream",
     "text": [
      "\n",
      "\n"
     ]
    },
    {
     "data": {
      "text/html": [
       "<div style=\"overflow-x:auto; overflow-y:hidden; display:inline-block;\">$\\left[\\begin{matrix}1 & 1 & 1\\\\2 & 2 & 2\\\\3 & 3 & 3\\end{matrix}\\right] . \\left[\\begin{matrix}1 & 2 & 3\\\\4 & 5 & 6\\\\7 & 8 & 9\\end{matrix}\\right] = \\left[\\begin{matrix}12 & 15 & 18\\\\24 & 30 & 36\\\\36 & 45 & 54\\end{matrix}\\right] $</div>"
      ],
      "text/plain": [
       "<IPython.core.display.HTML object>"
      ]
     },
     "metadata": {},
     "output_type": "display_data"
    },
    {
     "name": "stdout",
     "output_type": "stream",
     "text": [
      "\n",
      "\n"
     ]
    },
    {
     "data": {
      "text/html": [
       "<div style=\"overflow-x:auto; overflow-y:hidden; display:inline-block;\">$\\left[\\begin{matrix}1 & 2 & 3\\\\4 & 5 & 6\\\\7 & 8 & 9\\end{matrix}\\right] . \\left[\\begin{matrix}0 & 0 & 0\\\\0 & 0 & 0\\\\0 & 0 & 0\\end{matrix}\\right] = \\left[\\begin{matrix}0 & 0 & 0\\\\0 & 0 & 0\\\\0 & 0 & 0\\end{matrix}\\right] $</div>"
      ],
      "text/plain": [
       "<IPython.core.display.HTML object>"
      ]
     },
     "metadata": {},
     "output_type": "display_data"
    },
    {
     "name": "stdout",
     "output_type": "stream",
     "text": [
      "\n",
      "\n"
     ]
    },
    {
     "data": {
      "text/html": [
       "<div style=\"overflow-x:auto; overflow-y:hidden; display:inline-block;\">$\\left[\\begin{matrix}1 & 2 & 3\\\\4 & 5 & 6\\\\7 & 8 & 9\\end{matrix}\\right] . \\left[\\begin{matrix}1.0 & 1.0 & 1.0\\\\1.0 & 1.0 & 1.0\\\\1.0 & 1.0 & 1.0\\end{matrix}\\right] = \\left[\\begin{matrix}6.0 & 6.0 & 6.0\\\\15.0 & 15.0 & 15.0\\\\24.0 & 24.0 & 24.0\\end{matrix}\\right] $</div>"
      ],
      "text/plain": [
       "<IPython.core.display.HTML object>"
      ]
     },
     "metadata": {},
     "output_type": "display_data"
    },
    {
     "name": "stdout",
     "output_type": "stream",
     "text": [
      "\n",
      "\n"
     ]
    },
    {
     "data": {
      "text/html": [
       "<div style=\"overflow-x:auto; overflow-y:hidden; display:inline-block;\">$\\left[\\begin{matrix}1 & 2 & 3\\\\4 & 5 & 6\\\\7 & 8 & 9\\end{matrix}\\right] . \\left[\\begin{matrix}1.0 & 0 & 0\\\\0 & 1.0 & 0\\\\0 & 0 & 1.0\\end{matrix}\\right] = \\left[\\begin{matrix}1.0 & 2.0 & 3.0\\\\4.0 & 5.0 & 6.0\\\\7.0 & 8.0 & 9.0\\end{matrix}\\right] $</div>"
      ],
      "text/plain": [
       "<IPython.core.display.HTML object>"
      ]
     },
     "metadata": {},
     "output_type": "display_data"
    },
    {
     "name": "stdout",
     "output_type": "stream",
     "text": [
      "\n",
      "\n"
     ]
    },
    {
     "data": {
      "text/html": [
       "<div style=\"overflow-x:auto; overflow-y:hidden; display:inline-block;\">$\\left[\\begin{matrix}1 & 2 & 3\\\\4 & 5 & 6\\\\7 & 8 & 9\\end{matrix}\\right] . \\left[\\begin{matrix}0.128609244581697 & 0.778978259951807 & 0.289577243359489\\\\0.308043647263541 & 0.402012869714499 & 0.0754856118425141\\\\0.426306253636634 & 0.284816098041052 & 0.969813417614244\\end{matrix}\\right] = \\left[\\begin{matrix}2.02361530001868 & 2.43745229350396 & 3.34998871988725\\\\4.6124927364643 & 6.83487397662603 & 7.35461753833599\\\\7.20137017290991 & 11.2322956597481 & 11.3592463567847\\end{matrix}\\right] $</div>"
      ],
      "text/plain": [
       "<IPython.core.display.HTML object>"
      ]
     },
     "metadata": {},
     "output_type": "display_data"
    },
    {
     "name": "stdout",
     "output_type": "stream",
     "text": [
      "\n",
      "\n"
     ]
    }
   ],
   "source": [
    "C = np.dot(A, B)\n",
    "displayOperationMatrix(A, B, C, '.')\n",
    "C = np.dot(A, B)\n",
    "displayOperationMatrix(A, B, C, '.')\n",
    "C = np.dot(B, A)\n",
    "displayOperationMatrix(B, A, C, '.')\n",
    "C = np.dot(A, zeros_matrix)\n",
    "displayOperationMatrix(A, zeros_matrix, C, '.')\n",
    "C = np.dot(A, ones_matrix)\n",
    "displayOperationMatrix(A, ones_matrix, C, '.')\n",
    "C = np.dot(A, identity_matrix)\n",
    "displayOperationMatrix(A, identity_matrix, C, '.')\n",
    "C = np.dot(A, random_matrix)\n",
    "displayOperationMatrix(A, random_matrix, C, '.')"
   ]
  },
  {
   "cell_type": "markdown",
   "id": "da335f03-fa3d-4756-a1b7-2e378677aa06",
   "metadata": {},
   "source": [
    "### Matrix multiplication - matmul\n",
    "\n",
    "This short syntax using the @ operator is equivalent to using numpy.matmul or numpy.dot for 2-dimensional arrays. Keep in mind that the @ operator follows the rules of matrix multiplication, and it does not perform element-wise multiplication or broadcasting."
   ]
  },
  {
   "cell_type": "code",
   "execution_count": 313,
   "id": "1f8233b4-2917-4ed1-9560-4a84b84d9959",
   "metadata": {},
   "outputs": [
    {
     "data": {
      "text/html": [
       "<div style=\"overflow-x:auto; overflow-y:hidden; display:inline-block;\">$\\left[\\begin{matrix}1 & 2 & 3\\\\4 & 5 & 6\\\\7 & 8 & 9\\end{matrix}\\right] @ \\left[\\begin{matrix}1 & 1 & 1\\\\2 & 2 & 2\\\\3 & 3 & 3\\end{matrix}\\right] = \\left[\\begin{matrix}14 & 14 & 14\\\\32 & 32 & 32\\\\50 & 50 & 50\\end{matrix}\\right] $</div>"
      ],
      "text/plain": [
       "<IPython.core.display.HTML object>"
      ]
     },
     "metadata": {},
     "output_type": "display_data"
    },
    {
     "name": "stdout",
     "output_type": "stream",
     "text": [
      "\n",
      "\n"
     ]
    },
    {
     "data": {
      "text/html": [
       "<div style=\"overflow-x:auto; overflow-y:hidden; display:inline-block;\">$\\left[\\begin{matrix}1 & 1 & 1\\\\2 & 2 & 2\\\\3 & 3 & 3\\end{matrix}\\right] @ \\left[\\begin{matrix}1 & 2 & 3\\\\4 & 5 & 6\\\\7 & 8 & 9\\end{matrix}\\right] = \\left[\\begin{matrix}12 & 15 & 18\\\\24 & 30 & 36\\\\36 & 45 & 54\\end{matrix}\\right] $</div>"
      ],
      "text/plain": [
       "<IPython.core.display.HTML object>"
      ]
     },
     "metadata": {},
     "output_type": "display_data"
    },
    {
     "name": "stdout",
     "output_type": "stream",
     "text": [
      "\n",
      "\n"
     ]
    },
    {
     "data": {
      "text/html": [
       "<div style=\"overflow-x:auto; overflow-y:hidden; display:inline-block;\">$\\left[\\begin{matrix}1 & 2 & 3\\\\4 & 5 & 6\\\\7 & 8 & 9\\end{matrix}\\right] @ \\left[\\begin{matrix}0 & 0 & 0\\\\0 & 0 & 0\\\\0 & 0 & 0\\end{matrix}\\right] = \\left[\\begin{matrix}0 & 0 & 0\\\\0 & 0 & 0\\\\0 & 0 & 0\\end{matrix}\\right] $</div>"
      ],
      "text/plain": [
       "<IPython.core.display.HTML object>"
      ]
     },
     "metadata": {},
     "output_type": "display_data"
    },
    {
     "name": "stdout",
     "output_type": "stream",
     "text": [
      "\n",
      "\n"
     ]
    },
    {
     "data": {
      "text/html": [
       "<div style=\"overflow-x:auto; overflow-y:hidden; display:inline-block;\">$\\left[\\begin{matrix}1 & 2 & 3\\\\4 & 5 & 6\\\\7 & 8 & 9\\end{matrix}\\right] @ \\left[\\begin{matrix}1.0 & 1.0 & 1.0\\\\1.0 & 1.0 & 1.0\\\\1.0 & 1.0 & 1.0\\end{matrix}\\right] = \\left[\\begin{matrix}6.0 & 6.0 & 6.0\\\\15.0 & 15.0 & 15.0\\\\24.0 & 24.0 & 24.0\\end{matrix}\\right] $</div>"
      ],
      "text/plain": [
       "<IPython.core.display.HTML object>"
      ]
     },
     "metadata": {},
     "output_type": "display_data"
    },
    {
     "name": "stdout",
     "output_type": "stream",
     "text": [
      "\n",
      "\n"
     ]
    },
    {
     "data": {
      "text/html": [
       "<div style=\"overflow-x:auto; overflow-y:hidden; display:inline-block;\">$\\left[\\begin{matrix}1 & 2 & 3\\\\4 & 5 & 6\\\\7 & 8 & 9\\end{matrix}\\right] @ \\left[\\begin{matrix}1.0 & 0 & 0\\\\0 & 1.0 & 0\\\\0 & 0 & 1.0\\end{matrix}\\right] = \\left[\\begin{matrix}1.0 & 2.0 & 3.0\\\\4.0 & 5.0 & 6.0\\\\7.0 & 8.0 & 9.0\\end{matrix}\\right] $</div>"
      ],
      "text/plain": [
       "<IPython.core.display.HTML object>"
      ]
     },
     "metadata": {},
     "output_type": "display_data"
    },
    {
     "name": "stdout",
     "output_type": "stream",
     "text": [
      "\n",
      "\n"
     ]
    },
    {
     "data": {
      "text/html": [
       "<div style=\"overflow-x:auto; overflow-y:hidden; display:inline-block;\">$\\left[\\begin{matrix}1 & 2 & 3\\\\4 & 5 & 6\\\\7 & 8 & 9\\end{matrix}\\right] @ \\left[\\begin{matrix}0.128609244581697 & 0.778978259951807 & 0.289577243359489\\\\0.308043647263541 & 0.402012869714499 & 0.0754856118425141\\\\0.426306253636634 & 0.284816098041052 & 0.969813417614244\\end{matrix}\\right] = \\left[\\begin{matrix}2.02361530001868 & 2.43745229350396 & 3.34998871988725\\\\4.6124927364643 & 6.83487397662603 & 7.35461753833599\\\\7.20137017290991 & 11.2322956597481 & 11.3592463567847\\end{matrix}\\right] $</div>"
      ],
      "text/plain": [
       "<IPython.core.display.HTML object>"
      ]
     },
     "metadata": {},
     "output_type": "display_data"
    },
    {
     "name": "stdout",
     "output_type": "stream",
     "text": [
      "\n",
      "\n"
     ]
    }
   ],
   "source": [
    "C = A @ B\n",
    "displayOperationMatrix(A, B, C, '@')\n",
    "C = B @ A\n",
    "displayOperationMatrix(B, A, C, '@')\n",
    "C = A @ zeros_matrix\n",
    "displayOperationMatrix(A, zeros_matrix, C, '@')\n",
    "C = A @ ones_matrix\n",
    "displayOperationMatrix(A, ones_matrix, C, '@')\n",
    "C = A @ identity_matrix\n",
    "displayOperationMatrix(A, identity_matrix, C, '@')\n",
    "C = A @ random_matrix\n",
    "displayOperationMatrix(A, random_matrix, C, '@')"
   ]
  },
  {
   "cell_type": "markdown",
   "id": "93f0c0e9-31f0-4919-9ca8-525dde76be51",
   "metadata": {},
   "source": [
    "### Element-wise multiplication (Hadamard product):"
   ]
  },
  {
   "cell_type": "code",
   "execution_count": 314,
   "id": "12c7233a-9497-4a35-8ca7-46dd77dcc046",
   "metadata": {},
   "outputs": [
    {
     "data": {
      "text/html": [
       "<div style=\"overflow-x:auto; overflow-y:hidden; display:inline-block;\">$\\left[\\begin{matrix}1 & 2 & 3\\\\4 & 5 & 6\\\\7 & 8 & 9\\end{matrix}\\right] * \\left[\\begin{matrix}1 & 1 & 1\\\\2 & 2 & 2\\\\3 & 3 & 3\\end{matrix}\\right] = \\left[\\begin{matrix}1 & 2 & 3\\\\8 & 10 & 12\\\\21 & 24 & 27\\end{matrix}\\right] $</div>"
      ],
      "text/plain": [
       "<IPython.core.display.HTML object>"
      ]
     },
     "metadata": {},
     "output_type": "display_data"
    },
    {
     "name": "stdout",
     "output_type": "stream",
     "text": [
      "\n",
      "\n"
     ]
    },
    {
     "data": {
      "text/html": [
       "<div style=\"overflow-x:auto; overflow-y:hidden; display:inline-block;\">$\\left[\\begin{matrix}1 & 1 & 1\\\\2 & 2 & 2\\\\3 & 3 & 3\\end{matrix}\\right] * \\left[\\begin{matrix}1 & 2 & 3\\\\4 & 5 & 6\\\\7 & 8 & 9\\end{matrix}\\right] = \\left[\\begin{matrix}1 & 2 & 3\\\\8 & 10 & 12\\\\21 & 24 & 27\\end{matrix}\\right] $</div>"
      ],
      "text/plain": [
       "<IPython.core.display.HTML object>"
      ]
     },
     "metadata": {},
     "output_type": "display_data"
    },
    {
     "name": "stdout",
     "output_type": "stream",
     "text": [
      "\n",
      "\n"
     ]
    },
    {
     "data": {
      "text/html": [
       "<div style=\"overflow-x:auto; overflow-y:hidden; display:inline-block;\">$\\left[\\begin{matrix}1 & 2 & 3\\\\4 & 5 & 6\\\\7 & 8 & 9\\end{matrix}\\right] * \\left[\\begin{matrix}0 & 0 & 0\\\\0 & 0 & 0\\\\0 & 0 & 0\\end{matrix}\\right] = \\left[\\begin{matrix}0 & 0 & 0\\\\0 & 0 & 0\\\\0 & 0 & 0\\end{matrix}\\right] $</div>"
      ],
      "text/plain": [
       "<IPython.core.display.HTML object>"
      ]
     },
     "metadata": {},
     "output_type": "display_data"
    },
    {
     "name": "stdout",
     "output_type": "stream",
     "text": [
      "\n",
      "\n"
     ]
    },
    {
     "data": {
      "text/html": [
       "<div style=\"overflow-x:auto; overflow-y:hidden; display:inline-block;\">$\\left[\\begin{matrix}1 & 2 & 3\\\\4 & 5 & 6\\\\7 & 8 & 9\\end{matrix}\\right] * \\left[\\begin{matrix}1.0 & 1.0 & 1.0\\\\1.0 & 1.0 & 1.0\\\\1.0 & 1.0 & 1.0\\end{matrix}\\right] = \\left[\\begin{matrix}1.0 & 2.0 & 3.0\\\\4.0 & 5.0 & 6.0\\\\7.0 & 8.0 & 9.0\\end{matrix}\\right] $</div>"
      ],
      "text/plain": [
       "<IPython.core.display.HTML object>"
      ]
     },
     "metadata": {},
     "output_type": "display_data"
    },
    {
     "name": "stdout",
     "output_type": "stream",
     "text": [
      "\n",
      "\n"
     ]
    },
    {
     "data": {
      "text/html": [
       "<div style=\"overflow-x:auto; overflow-y:hidden; display:inline-block;\">$\\left[\\begin{matrix}1 & 2 & 3\\\\4 & 5 & 6\\\\7 & 8 & 9\\end{matrix}\\right] * \\left[\\begin{matrix}1.0 & 0 & 0\\\\0 & 1.0 & 0\\\\0 & 0 & 1.0\\end{matrix}\\right] = \\left[\\begin{matrix}1.0 & 0 & 0\\\\0 & 5.0 & 0\\\\0 & 0 & 9.0\\end{matrix}\\right] $</div>"
      ],
      "text/plain": [
       "<IPython.core.display.HTML object>"
      ]
     },
     "metadata": {},
     "output_type": "display_data"
    },
    {
     "name": "stdout",
     "output_type": "stream",
     "text": [
      "\n",
      "\n"
     ]
    },
    {
     "data": {
      "text/html": [
       "<div style=\"overflow-x:auto; overflow-y:hidden; display:inline-block;\">$\\left[\\begin{matrix}1 & 2 & 3\\\\4 & 5 & 6\\\\7 & 8 & 9\\end{matrix}\\right] * \\left[\\begin{matrix}0.128609244581697 & 0.778978259951807 & 0.289577243359489\\\\0.308043647263541 & 0.402012869714499 & 0.0754856118425141\\\\0.426306253636634 & 0.284816098041052 & 0.969813417614244\\end{matrix}\\right] = \\left[\\begin{matrix}0.128609244581697 & 1.55795651990361 & 0.868731730078466\\\\1.23217458905416 & 2.0100643485725 & 0.452913671055085\\\\2.98414377545644 & 2.27852878432841 & 8.72832075852819\\end{matrix}\\right] $</div>"
      ],
      "text/plain": [
       "<IPython.core.display.HTML object>"
      ]
     },
     "metadata": {},
     "output_type": "display_data"
    },
    {
     "name": "stdout",
     "output_type": "stream",
     "text": [
      "\n",
      "\n"
     ]
    }
   ],
   "source": [
    "C = A * B\n",
    "displayOperationMatrix(A, B, C, '*')\n",
    "C = B * A\n",
    "displayOperationMatrix(B, A, C, '*')\n",
    "C = A * zeros_matrix\n",
    "displayOperationMatrix(A, zeros_matrix, C, '*')\n",
    "C = A * ones_matrix\n",
    "displayOperationMatrix(A, ones_matrix, C, '*')\n",
    "C = A * identity_matrix\n",
    "displayOperationMatrix(A, identity_matrix, C, '*')\n",
    "C = A * random_matrix\n",
    "displayOperationMatrix(A, random_matrix, C, '*')"
   ]
  },
  {
   "cell_type": "markdown",
   "id": "599aa263-638a-4988-a7d2-fc48d64fa392",
   "metadata": {},
   "source": [
    "### Transpose"
   ]
  },
  {
   "cell_type": "code",
   "execution_count": 315,
   "id": "80f05f13-0526-4751-88db-3ad1a16f4eae",
   "metadata": {},
   "outputs": [
    {
     "data": {
      "text/html": [
       "<div style=\"overflow-x:auto; overflow-y:hidden; display:inline-block;\">$\\left[\\begin{matrix}1 & 4 & 7\\\\2 & 5 & 8\\\\3 & 6 & 9\\end{matrix}\\right] $</div>"
      ],
      "text/plain": [
       "<IPython.core.display.HTML object>"
      ]
     },
     "metadata": {},
     "output_type": "display_data"
    },
    {
     "name": "stdout",
     "output_type": "stream",
     "text": [
      "\n",
      "\n"
     ]
    }
   ],
   "source": [
    "C = A.T\n",
    "displayMatrix(C)"
   ]
  },
  {
   "cell_type": "markdown",
   "id": "1bc345e1-35dc-44d3-b14a-905f5502b09c",
   "metadata": {},
   "source": [
    "### Inverse"
   ]
  },
  {
   "cell_type": "code",
   "execution_count": 316,
   "id": "20f43d56-dfbc-46d6-ad1e-2ceae58f5123",
   "metadata": {},
   "outputs": [
    {
     "data": {
      "text/html": [
       "<div style=\"overflow-x:auto; overflow-y:hidden; display:inline-block;\">$\\left[\\begin{matrix}3.15251973915935 \\cdot 10^{15} & -6.30503947831869 \\cdot 10^{15} & 3.15251973915935 \\cdot 10^{15}\\\\-6.3050394783187 \\cdot 10^{15} & 1.26100789566374 \\cdot 10^{16} & -6.30503947831869 \\cdot 10^{15}\\\\3.15251973915935 \\cdot 10^{15} & -6.30503947831869 \\cdot 10^{15} & 3.15251973915935 \\cdot 10^{15}\\end{matrix}\\right] $</div>"
      ],
      "text/plain": [
       "<IPython.core.display.HTML object>"
      ]
     },
     "metadata": {},
     "output_type": "display_data"
    },
    {
     "name": "stdout",
     "output_type": "stream",
     "text": [
      "\n",
      "\n"
     ]
    }
   ],
   "source": [
    "C = np.linalg.inv(A)\n",
    "displayMatrix(C)"
   ]
  },
  {
   "cell_type": "markdown",
   "id": "c4dd5151-beaa-44c5-ad9d-1c8fab86484e",
   "metadata": {},
   "source": [
    "### Determinant"
   ]
  },
  {
   "cell_type": "code",
   "execution_count": 317,
   "id": "6b401f4b-251e-4808-890b-5926fb1d552c",
   "metadata": {},
   "outputs": [
    {
     "name": "stdout",
     "output_type": "stream",
     "text": [
      "Matrix determinant:\n",
      " -9.51619735392994e-16\n"
     ]
    }
   ],
   "source": [
    "det = np.linalg.det(A)\n",
    "print(\"Matrix determinant:\\n\", det)"
   ]
  },
  {
   "cell_type": "markdown",
   "id": "15a7839d-f9e0-4a95-bcfd-b69d43c4870e",
   "metadata": {},
   "source": [
    "### Rank"
   ]
  },
  {
   "cell_type": "code",
   "execution_count": 318,
   "id": "827683cc-0a85-448f-9a89-a2bb34f39de6",
   "metadata": {},
   "outputs": [
    {
     "name": "stdout",
     "output_type": "stream",
     "text": [
      "Matrix rank:\n",
      " 2\n"
     ]
    }
   ],
   "source": [
    "rank = np.linalg.matrix_rank(A)\n",
    "print(\"Matrix rank:\\n\", rank)"
   ]
  },
  {
   "cell_type": "markdown",
   "id": "2d817773-8ad0-41c4-8ebb-0552a0239d3f",
   "metadata": {},
   "source": [
    "### Eigenvalues and eigenvectors"
   ]
  },
  {
   "cell_type": "code",
   "execution_count": 319,
   "id": "ea8dce18-0f3f-46ce-9dd9-83cc53af0fbf",
   "metadata": {},
   "outputs": [
    {
     "data": {
      "text/html": [
       "<div style=\"overflow-x:auto; overflow-y:hidden; display:inline-block;\">$\\left[\\begin{matrix}16.116843969807 & -1.11684396980704 & -8.58274333503625 \\cdot 10^{-16}\\end{matrix}\\right] $</div>"
      ],
      "text/plain": [
       "<IPython.core.display.HTML object>"
      ]
     },
     "metadata": {},
     "output_type": "display_data"
    },
    {
     "name": "stdout",
     "output_type": "stream",
     "text": [
      "\n",
      "\n"
     ]
    },
    {
     "data": {
      "text/html": [
       "<div style=\"overflow-x:auto; overflow-y:hidden; display:inline-block;\">$\\left[\\begin{matrix}-0.231970687246286 & -0.785830238742067 & 0.408248290463864\\\\-0.525322093301233 & -0.0867513392566285 & -0.816496580927726\\\\-0.818673499356181 & 0.61232756022881 & 0.408248290463863\\end{matrix}\\right] $</div>"
      ],
      "text/plain": [
       "<IPython.core.display.HTML object>"
      ]
     },
     "metadata": {},
     "output_type": "display_data"
    },
    {
     "name": "stdout",
     "output_type": "stream",
     "text": [
      "\n",
      "\n"
     ]
    }
   ],
   "source": [
    "eigenvalues, eigenvectors = np.linalg.eig(A)\n",
    "displayMatrix([eigenvalues])\n",
    "displayMatrix(eigenvectors)"
   ]
  },
  {
   "cell_type": "code",
   "execution_count": 320,
   "id": "367a5024-87d4-445f-9c29-f0d9b4c14418",
   "metadata": {},
   "outputs": [],
   "source": [
    "### Dimensions test"
   ]
  },
  {
   "cell_type": "code",
   "execution_count": 321,
   "id": "0584fc26-7aad-4472-acd9-1aaee4456652",
   "metadata": {
    "tags": []
   },
   "outputs": [
    {
     "name": "stdout",
     "output_type": "stream",
     "text": [
      "\n",
      " ADDITION TEST\n",
      "matrix_3x3 + matrix_2x2 is not possible operation\n",
      "matrix_3x3 + matrix_2x3 is not possible operation\n",
      "matrix_3x3 + matrix_3x2 is not possible operation\n",
      "\n",
      " SUBTRACTION TEST\n",
      "matrix_3x3 - matrix_2x2 is not possible operation\n",
      "matrix_3x3 - matrix_2x3 is not possible operation\n",
      "matrix_3x3 - matrix_3x2 is not possible operation\n",
      "\n",
      " MATMUL TEST\n",
      "matrix_3x3 @ matrix_2x2 is not possible operation\n",
      "matrix_3x3 @ matrix_2x3 is not possible operation\n"
     ]
    },
    {
     "data": {
      "text/html": [
       "<div style=\"overflow-x:auto; overflow-y:hidden; display:inline-block;\">$\\left[\\begin{matrix}1 & 2 & 3\\\\4 & 5 & 6\\\\7 & 8 & 9\\end{matrix}\\right] @ \\left[\\begin{matrix}1 & 2\\\\3 & 4\\\\5 & 6\\end{matrix}\\right] = \\left[\\begin{matrix}22 & 28\\\\49 & 64\\\\76 & 100\\end{matrix}\\right] $</div>"
      ],
      "text/plain": [
       "<IPython.core.display.HTML object>"
      ]
     },
     "metadata": {},
     "output_type": "display_data"
    },
    {
     "name": "stdout",
     "output_type": "stream",
     "text": [
      "\n",
      "\n",
      "\n",
      " Element-wise multiplication (Hadamard product)\n",
      "matrix_3x3 * matrix_2x2 is not possible operation\n",
      "matrix_3x3 * matrix_2x3 is not possible operation\n",
      "matrix_3x3 * matrix_3x2 is not possible operation\n"
     ]
    }
   ],
   "source": [
    "print('\\n ADDITION TEST')\n",
    "\n",
    "try:\n",
    "    C = A + matrix_2x2\n",
    "    displayOperationMatrix(A, matrix_2x2, C, '+')\n",
    "except:\n",
    "    print(\"matrix_3x3 + matrix_2x2 is not possible operation\")\n",
    "    \n",
    "try:\n",
    "    C = A + matrix_2x3\n",
    "    displayOperationMatrix(A, matrix_2x3, C, '+')\n",
    "except:\n",
    "    print(\"matrix_3x3 + matrix_2x3 is not possible operation\")\n",
    "\n",
    "try:\n",
    "    C = A + matrix_3x2\n",
    "    displayOperationMatrix(A, matrix_3x2, C, '+')\n",
    "except:\n",
    "    print(\"matrix_3x3 + matrix_3x2 is not possible operation\")\n",
    "\n",
    "print('\\n SUBTRACTION TEST')\n",
    "\n",
    "try:\n",
    "    C = A - matrix_2x2\n",
    "    displayOperationMatrix(A, matrix_2x2, C, '-')\n",
    "except:\n",
    "    print(\"matrix_3x3 - matrix_2x2 is not possible operation\")\n",
    "    \n",
    "try:\n",
    "    C = A - matrix_2x3\n",
    "    displayOperationMatrix(A, matrix_2x3, C, '-')\n",
    "except:\n",
    "    print(\"matrix_3x3 - matrix_2x3 is not possible operation\")\n",
    "\n",
    "try:\n",
    "    C = A - matrix_3x2\n",
    "    displayOperationMatrix(A, matrix_3x2, C, '-')\n",
    "except:\n",
    "    print(\"matrix_3x3 - matrix_3x2 is not possible operation\")\n",
    "\n",
    "print('\\n MATMUL TEST')\n",
    "\n",
    "try:\n",
    "    C = A @ matrix_2x2\n",
    "    displayOperationMatrix(A, matrix_2x2, C, '@')\n",
    "except:\n",
    "    print(\"matrix_3x3 @ matrix_2x2 is not possible operation\")\n",
    "    \n",
    "try:\n",
    "    C = A @ matrix_2x3\n",
    "    displayOperationMatrix(A, matrix_2x3, C, '@')\n",
    "except:\n",
    "    print(\"matrix_3x3 @ matrix_2x3 is not possible operation\")\n",
    "\n",
    "try:\n",
    "    C = A @ matrix_3x2\n",
    "    displayOperationMatrix(A, matrix_3x2, C, '@')\n",
    "except:\n",
    "    print(\"matrix_3x3 @ matrix_3x2 is not possible operation\")\n",
    "    \n",
    "print('\\n Element-wise multiplication (Hadamard product)')\n",
    "\n",
    "try:\n",
    "    C = A * matrix_2x2\n",
    "    displayOperationMatrix(A, matrix_2x2, C, '*')\n",
    "except:\n",
    "    print(\"matrix_3x3 * matrix_2x2 is not possible operation\")\n",
    "    \n",
    "try:\n",
    "    C = A * matrix_2x3\n",
    "    displayOperationMatrix(A, matrix_2x3, C, '*')\n",
    "except:\n",
    "    print(\"matrix_3x3 * matrix_2x3 is not possible operation\")\n",
    "\n",
    "try:\n",
    "    C = A * matrix_3x2\n",
    "    displayOperationMatrix(A, matrix_3x2, C, '*')\n",
    "except:\n",
    "    print(\"matrix_3x3 * matrix_3x2 is not possible operation\")"
   ]
  }
 ],
 "metadata": {
  "kernelspec": {
   "display_name": "Python 3 (ipykernel)",
   "language": "python",
   "name": "python3"
  },
  "language_info": {
   "codemirror_mode": {
    "name": "ipython",
    "version": 3
   },
   "file_extension": ".py",
   "mimetype": "text/x-python",
   "name": "python",
   "nbconvert_exporter": "python",
   "pygments_lexer": "ipython3",
   "version": "3.10.10"
  }
 },
 "nbformat": 4,
 "nbformat_minor": 5
}
